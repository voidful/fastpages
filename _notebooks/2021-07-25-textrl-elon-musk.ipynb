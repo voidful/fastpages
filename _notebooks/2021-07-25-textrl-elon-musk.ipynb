{
 "nbformat": 4,
 "nbformat_minor": 0,
 "metadata": {
  "colab": {
   "name": "elon_musk.ipynb",
   "provenance": [],
   "collapsed_sections": []
  },
  "kernelspec": {
   "name": "python3",
   "display_name": "Python 3"
  },
  "language_info": {
   "name": "python"
  },
  "accelerator": "GPU"
 },
 "cells": [
  {
   "source": [
    "# Controllable generation via RL to let Elon Musk speak ill of DOGE\n",
    "> How to control text generation through a sentiment classifier.\n",
    "\n",
    "- toc: true \n",
    "- badges: true\n",
    "- comments: true\n",
    "- categories: [jupyter]\n"
   ],
   "cell_type": "markdown",
   "metadata": {
    "id": "At5gZSqIG1ah"
   }
  },
  {
   "cell_type": "code",
   "metadata": {
    "id": "c8BT6ZwpNke-"
   },
   "source": [
    "from textrl import TextRLEnv,TextRLActor\n",
    "from transformers import pipeline, AutoModelForTokenClassification, AutoTokenizer, AutoModelWithLMHead\n",
    "import logging\n",
    "import sys\n",
    "import pfrl\n",
    "import torch\n",
    "logging.basicConfig(level=logging.INFO, stream=sys.stdout, format='')"
   ],
   "execution_count": 2,
   "outputs": []
  },
  {
   "cell_type": "markdown",
   "metadata": {
    "id": "Re1cxoPZ4wgf"
   },
   "source": [
    "**Using a pre-trained model, it can generate elonmusk's style tweets.**"
   ]
  },
  {
   "cell_type": "code",
   "metadata": {
    "id": "f0TqcFITHHdX",
    "colab": {
     "base_uri": "https://localhost:8080/"
    },
    "outputId": "355fc68b-b53a-41fc-8fdc-b5c1fded82e3"
   },
   "source": [
    "tokenizer = AutoTokenizer.from_pretrained(\"huggingtweets/elonmusk\")  \n",
    "model = AutoModelWithLMHead.from_pretrained(\"huggingtweets/elonmusk\")\n",
    "model.eval()\n",
    "model.cuda()"
   ],
   "execution_count": 3,
   "outputs": [
    {
     "output_type": "stream",
     "text": [
      "/usr/local/lib/python3.7/dist-packages/transformers/models/auto/modeling_auto.py:902: FutureWarning: The class `AutoModelWithLMHead` is deprecated and will be removed in a future version. Please use `AutoModelForCausalLM` for causal language models, `AutoModelForMaskedLM` for masked language models and `AutoModelForSeq2SeqLM` for encoder-decoder models.\n",
      "  FutureWarning,\n"
     ],
     "name": "stderr"
    },
    {
     "output_type": "execute_result",
     "data": {
      "text/plain": [
       "GPT2LMHeadModel(\n",
       "  (transformer): GPT2Model(\n",
       "    (wte): Embedding(50257, 768)\n",
       "    (wpe): Embedding(1024, 768)\n",
       "    (drop): Dropout(p=0.1, inplace=False)\n",
       "    (h): ModuleList(\n",
       "      (0): GPT2Block(\n",
       "        (ln_1): LayerNorm((768,), eps=1e-05, elementwise_affine=True)\n",
       "        (attn): GPT2Attention(\n",
       "          (c_attn): Conv1D()\n",
       "          (c_proj): Conv1D()\n",
       "          (attn_dropout): Dropout(p=0.1, inplace=False)\n",
       "          (resid_dropout): Dropout(p=0.1, inplace=False)\n",
       "        )\n",
       "        (ln_2): LayerNorm((768,), eps=1e-05, elementwise_affine=True)\n",
       "        (mlp): GPT2MLP(\n",
       "          (c_fc): Conv1D()\n",
       "          (c_proj): Conv1D()\n",
       "          (dropout): Dropout(p=0.1, inplace=False)\n",
       "        )\n",
       "      )\n",
       "      (1): GPT2Block(\n",
       "        (ln_1): LayerNorm((768,), eps=1e-05, elementwise_affine=True)\n",
       "        (attn): GPT2Attention(\n",
       "          (c_attn): Conv1D()\n",
       "          (c_proj): Conv1D()\n",
       "          (attn_dropout): Dropout(p=0.1, inplace=False)\n",
       "          (resid_dropout): Dropout(p=0.1, inplace=False)\n",
       "        )\n",
       "        (ln_2): LayerNorm((768,), eps=1e-05, elementwise_affine=True)\n",
       "        (mlp): GPT2MLP(\n",
       "          (c_fc): Conv1D()\n",
       "          (c_proj): Conv1D()\n",
       "          (dropout): Dropout(p=0.1, inplace=False)\n",
       "        )\n",
       "      )\n",
       "      (2): GPT2Block(\n",
       "        (ln_1): LayerNorm((768,), eps=1e-05, elementwise_affine=True)\n",
       "        (attn): GPT2Attention(\n",
       "          (c_attn): Conv1D()\n",
       "          (c_proj): Conv1D()\n",
       "          (attn_dropout): Dropout(p=0.1, inplace=False)\n",
       "          (resid_dropout): Dropout(p=0.1, inplace=False)\n",
       "        )\n",
       "        (ln_2): LayerNorm((768,), eps=1e-05, elementwise_affine=True)\n",
       "        (mlp): GPT2MLP(\n",
       "          (c_fc): Conv1D()\n",
       "          (c_proj): Conv1D()\n",
       "          (dropout): Dropout(p=0.1, inplace=False)\n",
       "        )\n",
       "      )\n",
       "      (3): GPT2Block(\n",
       "        (ln_1): LayerNorm((768,), eps=1e-05, elementwise_affine=True)\n",
       "        (attn): GPT2Attention(\n",
       "          (c_attn): Conv1D()\n",
       "          (c_proj): Conv1D()\n",
       "          (attn_dropout): Dropout(p=0.1, inplace=False)\n",
       "          (resid_dropout): Dropout(p=0.1, inplace=False)\n",
       "        )\n",
       "        (ln_2): LayerNorm((768,), eps=1e-05, elementwise_affine=True)\n",
       "        (mlp): GPT2MLP(\n",
       "          (c_fc): Conv1D()\n",
       "          (c_proj): Conv1D()\n",
       "          (dropout): Dropout(p=0.1, inplace=False)\n",
       "        )\n",
       "      )\n",
       "      (4): GPT2Block(\n",
       "        (ln_1): LayerNorm((768,), eps=1e-05, elementwise_affine=True)\n",
       "        (attn): GPT2Attention(\n",
       "          (c_attn): Conv1D()\n",
       "          (c_proj): Conv1D()\n",
       "          (attn_dropout): Dropout(p=0.1, inplace=False)\n",
       "          (resid_dropout): Dropout(p=0.1, inplace=False)\n",
       "        )\n",
       "        (ln_2): LayerNorm((768,), eps=1e-05, elementwise_affine=True)\n",
       "        (mlp): GPT2MLP(\n",
       "          (c_fc): Conv1D()\n",
       "          (c_proj): Conv1D()\n",
       "          (dropout): Dropout(p=0.1, inplace=False)\n",
       "        )\n",
       "      )\n",
       "      (5): GPT2Block(\n",
       "        (ln_1): LayerNorm((768,), eps=1e-05, elementwise_affine=True)\n",
       "        (attn): GPT2Attention(\n",
       "          (c_attn): Conv1D()\n",
       "          (c_proj): Conv1D()\n",
       "          (attn_dropout): Dropout(p=0.1, inplace=False)\n",
       "          (resid_dropout): Dropout(p=0.1, inplace=False)\n",
       "        )\n",
       "        (ln_2): LayerNorm((768,), eps=1e-05, elementwise_affine=True)\n",
       "        (mlp): GPT2MLP(\n",
       "          (c_fc): Conv1D()\n",
       "          (c_proj): Conv1D()\n",
       "          (dropout): Dropout(p=0.1, inplace=False)\n",
       "        )\n",
       "      )\n",
       "      (6): GPT2Block(\n",
       "        (ln_1): LayerNorm((768,), eps=1e-05, elementwise_affine=True)\n",
       "        (attn): GPT2Attention(\n",
       "          (c_attn): Conv1D()\n",
       "          (c_proj): Conv1D()\n",
       "          (attn_dropout): Dropout(p=0.1, inplace=False)\n",
       "          (resid_dropout): Dropout(p=0.1, inplace=False)\n",
       "        )\n",
       "        (ln_2): LayerNorm((768,), eps=1e-05, elementwise_affine=True)\n",
       "        (mlp): GPT2MLP(\n",
       "          (c_fc): Conv1D()\n",
       "          (c_proj): Conv1D()\n",
       "          (dropout): Dropout(p=0.1, inplace=False)\n",
       "        )\n",
       "      )\n",
       "      (7): GPT2Block(\n",
       "        (ln_1): LayerNorm((768,), eps=1e-05, elementwise_affine=True)\n",
       "        (attn): GPT2Attention(\n",
       "          (c_attn): Conv1D()\n",
       "          (c_proj): Conv1D()\n",
       "          (attn_dropout): Dropout(p=0.1, inplace=False)\n",
       "          (resid_dropout): Dropout(p=0.1, inplace=False)\n",
       "        )\n",
       "        (ln_2): LayerNorm((768,), eps=1e-05, elementwise_affine=True)\n",
       "        (mlp): GPT2MLP(\n",
       "          (c_fc): Conv1D()\n",
       "          (c_proj): Conv1D()\n",
       "          (dropout): Dropout(p=0.1, inplace=False)\n",
       "        )\n",
       "      )\n",
       "      (8): GPT2Block(\n",
       "        (ln_1): LayerNorm((768,), eps=1e-05, elementwise_affine=True)\n",
       "        (attn): GPT2Attention(\n",
       "          (c_attn): Conv1D()\n",
       "          (c_proj): Conv1D()\n",
       "          (attn_dropout): Dropout(p=0.1, inplace=False)\n",
       "          (resid_dropout): Dropout(p=0.1, inplace=False)\n",
       "        )\n",
       "        (ln_2): LayerNorm((768,), eps=1e-05, elementwise_affine=True)\n",
       "        (mlp): GPT2MLP(\n",
       "          (c_fc): Conv1D()\n",
       "          (c_proj): Conv1D()\n",
       "          (dropout): Dropout(p=0.1, inplace=False)\n",
       "        )\n",
       "      )\n",
       "      (9): GPT2Block(\n",
       "        (ln_1): LayerNorm((768,), eps=1e-05, elementwise_affine=True)\n",
       "        (attn): GPT2Attention(\n",
       "          (c_attn): Conv1D()\n",
       "          (c_proj): Conv1D()\n",
       "          (attn_dropout): Dropout(p=0.1, inplace=False)\n",
       "          (resid_dropout): Dropout(p=0.1, inplace=False)\n",
       "        )\n",
       "        (ln_2): LayerNorm((768,), eps=1e-05, elementwise_affine=True)\n",
       "        (mlp): GPT2MLP(\n",
       "          (c_fc): Conv1D()\n",
       "          (c_proj): Conv1D()\n",
       "          (dropout): Dropout(p=0.1, inplace=False)\n",
       "        )\n",
       "      )\n",
       "      (10): GPT2Block(\n",
       "        (ln_1): LayerNorm((768,), eps=1e-05, elementwise_affine=True)\n",
       "        (attn): GPT2Attention(\n",
       "          (c_attn): Conv1D()\n",
       "          (c_proj): Conv1D()\n",
       "          (attn_dropout): Dropout(p=0.1, inplace=False)\n",
       "          (resid_dropout): Dropout(p=0.1, inplace=False)\n",
       "        )\n",
       "        (ln_2): LayerNorm((768,), eps=1e-05, elementwise_affine=True)\n",
       "        (mlp): GPT2MLP(\n",
       "          (c_fc): Conv1D()\n",
       "          (c_proj): Conv1D()\n",
       "          (dropout): Dropout(p=0.1, inplace=False)\n",
       "        )\n",
       "      )\n",
       "      (11): GPT2Block(\n",
       "        (ln_1): LayerNorm((768,), eps=1e-05, elementwise_affine=True)\n",
       "        (attn): GPT2Attention(\n",
       "          (c_attn): Conv1D()\n",
       "          (c_proj): Conv1D()\n",
       "          (attn_dropout): Dropout(p=0.1, inplace=False)\n",
       "          (resid_dropout): Dropout(p=0.1, inplace=False)\n",
       "        )\n",
       "        (ln_2): LayerNorm((768,), eps=1e-05, elementwise_affine=True)\n",
       "        (mlp): GPT2MLP(\n",
       "          (c_fc): Conv1D()\n",
       "          (c_proj): Conv1D()\n",
       "          (dropout): Dropout(p=0.1, inplace=False)\n",
       "        )\n",
       "      )\n",
       "    )\n",
       "    (ln_f): LayerNorm((768,), eps=1e-05, elementwise_affine=True)\n",
       "  )\n",
       "  (lm_head): Linear(in_features=768, out_features=50257, bias=False)\n",
       ")"
      ]
     },
     "metadata": {
      "tags": []
     },
     "execution_count": 3
    }
   ]
  },
  {
   "cell_type": "markdown",
   "metadata": {
    "id": "342ChdlM5CXv"
   },
   "source": [
    "**a sentiment classifier for rl reward**"
   ]
  },
  {
   "cell_type": "code",
   "metadata": {
    "id": "UYRgFPW_HrJo"
   },
   "source": [
    "sentiment = pipeline('sentiment-analysis',model=\"cardiffnlp/twitter-roberta-base-sentiment\",tokenizer=\"cardiffnlp/twitter-roberta-base-sentiment\",device=0,return_all_scores=True)"
   ],
   "execution_count": 4,
   "outputs": []
  },
  {
   "cell_type": "code",
   "metadata": {
    "id": "o47CRT8TKqvn"
   },
   "source": [
    "transformers_logger = logging.getLogger('transformers')\n",
    "transformers_logger.setLevel(logging.CRITICAL)"
   ],
   "execution_count": 5,
   "outputs": []
  },
  {
   "cell_type": "code",
   "metadata": {
    "id": "GgFrS5gQIAxR",
    "colab": {
     "base_uri": "https://localhost:8080/"
    },
    "outputId": "fb4619ff-b619-48b8-ed41-1173fe538cf2"
   },
   "source": [
    "sentiment(\"dogecoin is bad\")"
   ],
   "execution_count": 6,
   "outputs": [
    {
     "output_type": "execute_result",
     "data": {
      "text/plain": [
       "[[{'label': 'LABEL_0', 'score': 0.9338533878326416},\n",
       "  {'label': 'LABEL_1', 'score': 0.060118917375802994},\n",
       "  {'label': 'LABEL_2', 'score': 0.0060277231968939304}]]"
      ]
     },
     "metadata": {
      "tags": []
     },
     "execution_count": 6
    }
   ]
  },
  {
   "cell_type": "code",
   "metadata": {
    "colab": {
     "base_uri": "https://localhost:8080/"
    },
    "id": "GhVcFdwjJzjW",
    "outputId": "523d7785-728d-4e1c-8807-a5dd79661f13"
   },
   "source": [
    "sentiment(\"dogecoin is bad\")[0][0]['score']"
   ],
   "execution_count": 7,
   "outputs": [
    {
     "output_type": "execute_result",
     "data": {
      "text/plain": [
       "0.9338533878326416"
      ]
     },
     "metadata": {
      "tags": []
     },
     "execution_count": 7
    }
   ]
  },
  {
   "cell_type": "markdown",
   "metadata": {
    "id": "SfjPrvcK5N5e"
   },
   "source": [
    "set our text generation reward, inverse perplexity + sentiment classifier.\n",
    "- inverse perplexity make sure the generated sentence probability will be high.\n",
    "- sentiment classifier can make the generate more negative."
   ]
  },
  {
   "cell_type": "code",
   "metadata": {
    "id": "OgNGUk99HMtT"
   },
   "source": [
    "class MyRLEnv(TextRLEnv):\n",
    "    def get_reward(self, input_text, predicted_list, finish): # predicted will be the list of predicted token\n",
    "      reward = 0\n",
    "      if finish:\n",
    "        if 1 < len(predicted_list) < 50:\n",
    "          predicted_text = tokenizer.convert_tokens_to_string(predicted_list)\n",
    "          # inverse perplexity\n",
    "          inputs = tokenizer(input_text+predicted_text,return_tensors='pt').to('cuda')\n",
    "          reward += (1/(torch.exp(model(**inputs, labels=inputs[\"input_ids\"]).loss).mean().item()))\n",
    "          # sentiment classifier\n",
    "          reward += sentiment(predicted_text)[0][0]['score']\n",
    "      return reward"
   ],
   "execution_count": 8,
   "outputs": []
  },
  {
   "cell_type": "markdown",
   "metadata": {
    "id": "jqF7mNCY5tdO"
   },
   "source": [
    "**fit one example**"
   ]
  },
  {
   "cell_type": "code",
   "metadata": {
    "id": "cy4tCfslKGd4"
   },
   "source": [
    "observaton_list = ['i think dogecoin is']"
   ],
   "execution_count": 9,
   "outputs": []
  },
  {
   "cell_type": "code",
   "metadata": {
    "id": "wtGfk03eHOv_"
   },
   "source": [
    "env = MyRLEnv(model, tokenizer, observation_input=observaton_list)\n",
    "actor = TextRLActor(env,model,tokenizer)\n",
    "agent = actor.agent_ppo(update_interval=10, minibatch_size=2000, epochs=20)"
   ],
   "execution_count": 10,
   "outputs": []
  },
  {
   "cell_type": "code",
   "metadata": {
    "id": "_sBBy1yjIdtP",
    "colab": {
     "base_uri": "https://localhost:8080/",
     "height": 37
    },
    "outputId": "7149b311-0768-4d09-ee25-039079e3dc10"
   },
   "source": [
    "actor.predict('i think dogecoin is')"
   ],
   "execution_count": 11,
   "outputs": [
    {
     "output_type": "execute_result",
     "data": {
      "application/vnd.google.colaboratory.intrinsic+json": {
       "type": "string"
      },
      "text/plain": [
       "' a great idea.'"
      ]
     },
     "metadata": {
      "tags": []
     },
     "execution_count": 11
    }
   ]
  },
  {
   "cell_type": "code",
   "metadata": {
    "id": "FBysk9MiHR2D",
    "colab": {
     "base_uri": "https://localhost:8080/"
    },
    "outputId": "0999e1a7-96d6-40d0-e3d2-652e5def1627"
   },
   "source": [
    "pfrl.experiments.train_agent_with_evaluation(\n",
    "    agent,\n",
    "    env,\n",
    "    steps=500,\n",
    "    eval_n_steps=None,\n",
    "    eval_n_episodes=1,       \n",
    "    train_max_episode_len=50,  \n",
    "    eval_interval=10,\n",
    "    outdir='elon_musk_dogecoin', \n",
    ")"
   ],
   "execution_count": 16,
   "outputs": [
    {
     "output_type": "stream",
     "text": [
      "outdir:elon_musk_dogecoin step:28 episode:0 R:0.11256813772978423\n",
      "statistics:[('average_value', -1.1820644), ('average_entropy', 71312.86), ('average_value_loss', 1.5397733084180139), ('average_policy_loss', -0.0005778993137496537), ('n_updates', 33), ('explained_variance', -36.946850889108426)]\n",
      "evaluation episode 0 length:15 R:0.6118701571341162\n",
      "The best score is updated -3.4028235e+38 -> 0.6118701571341162\n",
      "Saved the agent to elon_musk_dogecoin/best\n",
      "outdir:elon_musk_dogecoin step:33 episode:1 R:0.04733136688125236\n",
      "statistics:[('average_value', -1.1896302), ('average_entropy', 71312.86), ('average_value_loss', 1.5780798437840797), ('average_policy_loss', -0.0006748329104833401), ('n_updates', 34), ('explained_variance', -0.7300913744865904)]\n",
      "evaluation episode 0 length:5 R:0.051060883339943464\n",
      "outdir:elon_musk_dogecoin step:38 episode:2 R:0.051060883339943464\n",
      "statistics:[('average_value', -1.1958332), ('average_entropy', 71312.86), ('average_value_loss', 1.5780798437840797), ('average_policy_loss', -0.0006748329104833401), ('n_updates', 34), ('explained_variance', -0.7300913744865904)]\n",
      "outdir:elon_musk_dogecoin step:87 episode:3 R:0.1912596257209756\n",
      "statistics:[('average_value', -1.2554632), ('average_entropy', 71312.94), ('average_value_loss', 1.5440955738990734), ('average_policy_loss', -0.0002805701943333798), ('n_updates', 39), ('explained_variance', -390.4063933607259)]\n",
      "evaluation episode 0 length:5 R:0.051060883339943464\n",
      "outdir:elon_musk_dogecoin step:103 episode:4 R:0.5811674822406133\n",
      "statistics:[('average_value', -1.2457539), ('average_entropy', 71312.98), ('average_value_loss', 1.5156753742840232), ('average_policy_loss', -0.0002032094211821592), ('n_updates', 41), ('explained_variance', -51.0615278646253)]\n",
      "evaluation episode 0 length:5 R:0.051060883339943464\n",
      "outdir:elon_musk_dogecoin step:112 episode:5 R:0.06606750377697743\n",
      "statistics:[('average_value', -1.2375408), ('average_entropy', 71312.99), ('average_value_loss', 1.5108967859830176), ('average_policy_loss', -8.875665203266267e-05), ('n_updates', 42), ('explained_variance', -1.4907311649594996)]\n",
      "evaluation episode 0 length:5 R:0.051060883339943464\n",
      "outdir:elon_musk_dogecoin step:117 episode:6 R:0.04733136688125236\n",
      "statistics:[('average_value', -1.2344139), ('average_entropy', 71313.01), ('average_value_loss', 1.5108967859830176), ('average_policy_loss', -8.875665203266267e-05), ('n_updates', 42), ('explained_variance', -1.4907311649594996)]\n",
      "outdir:elon_musk_dogecoin step:133 episode:7 R:0.055373401821994093\n",
      "statistics:[('average_value', -1.227982), ('average_entropy', 71313.06), ('average_value_loss', 1.493516572158445), ('average_policy_loss', -8.711994806534759e-05), ('n_updates', 44), ('explained_variance', -78.9884378834259)]\n",
      "evaluation episode 0 length:5 R:0.051060883339943464\n",
      "outdir:elon_musk_dogecoin step:148 episode:8 R:0.13826534376486688\n",
      "statistics:[('average_value', -1.2197058), ('average_entropy', 71313.1), ('average_value_loss', 1.4825191640191608), ('average_policy_loss', 0.00019809898391637642), ('n_updates', 45), ('explained_variance', -33.81824737099633)]\n",
      "evaluation episode 0 length:5 R:0.051060883339943464\n",
      "outdir:elon_musk_dogecoin step:198 episode:9 R:0\n",
      "statistics:[('average_value', -1.1569879), ('average_entropy', 71313.22), ('average_value_loss', 1.3934581258893013), ('average_policy_loss', 0.00033982125845795965), ('n_updates', 50), ('explained_variance', -431.32679512670745)]\n",
      "evaluation episode 0 length:5 R:0.051060883339943464\n",
      "outdir:elon_musk_dogecoin step:213 episode:10 R:0.06352318183982744\n",
      "statistics:[('average_value', -1.136288), ('average_entropy', 71313.25), ('average_value_loss', 1.3678271796267767), ('average_policy_loss', 0.00024142916698530407), ('n_updates', 52), ('explained_variance', -32.041422884933674)]\n",
      "evaluation episode 0 length:5 R:0.051060883339943464\n",
      "outdir:elon_musk_dogecoin step:216 episode:11 R:0.026587595267637088\n",
      "statistics:[('average_value', -1.1333122), ('average_entropy', 71313.25), ('average_value_loss', 1.3678271796267767), ('average_policy_loss', 0.00024142916698530407), ('n_updates', 52), ('explained_variance', -32.041422884933674)]\n",
      "outdir:elon_musk_dogecoin step:221 episode:12 R:0.04169077246803829\n",
      "statistics:[('average_value', -1.1245402), ('average_entropy', 71313.266), ('average_value_loss', 1.3501226932934995), ('average_policy_loss', 0.0001948871455547391), ('n_updates', 53), ('explained_variance', -370.5535500115619)]\n",
      "evaluation episode 0 length:5 R:0.051060883339943464\n",
      "outdir:elon_musk_dogecoin step:229 episode:13 R:0.04640172880556339\n",
      "statistics:[('average_value', -1.1159837), ('average_entropy', 71313.27), ('average_value_loss', 1.3501226932934995), ('average_policy_loss', 0.0001948871455547391), ('n_updates', 53), ('explained_variance', -370.5535500115619)]\n",
      "outdir:elon_musk_dogecoin step:234 episode:14 R:0.051060883339943464\n",
      "statistics:[('average_value', -1.1078151), ('average_entropy', 71313.29), ('average_value_loss', 1.3338033885315612), ('average_policy_loss', 0.00016046616851613012), ('n_updates', 54), ('explained_variance', -155.0251960693383)]\n",
      "evaluation episode 0 length:5 R:0.051060883339943464\n",
      "outdir:elon_musk_dogecoin step:239 episode:15 R:0.04733136688125236\n",
      "statistics:[('average_value', -1.0999826), ('average_entropy', 71313.29), ('average_value_loss', 1.3338033885315612), ('average_policy_loss', 0.00016046616851613012), ('n_updates', 54), ('explained_variance', -155.0251960693383)]\n",
      "outdir:elon_musk_dogecoin step:247 episode:16 R:0.04414926498259348\n",
      "statistics:[('average_value', -1.0872896), ('average_entropy', 71313.305), ('average_value_loss', 1.3130737553943288), ('average_policy_loss', 0.00023882706174679861), ('n_updates', 55), ('explained_variance', -133.39454800252926)]\n",
      "evaluation episode 0 length:5 R:0.051060883339943464\n",
      "outdir:elon_musk_dogecoin step:250 episode:17 R:0.026587595267637088\n",
      "statistics:[('average_value', -1.0839288), ('average_entropy', 71313.31), ('average_value_loss', 1.3130737553943288), ('average_policy_loss', 0.00023882706174679861), ('n_updates', 55), ('explained_variance', -133.39454800252926)]\n",
      "evaluation episode 0 length:5 R:0.051060883339943464\n",
      "outdir:elon_musk_dogecoin step:255 episode:18 R:0.051060883339943464\n",
      "statistics:[('average_value', -1.075243), ('average_entropy', 71313.32), ('average_value_loss', 1.2955336006624358), ('average_policy_loss', 0.0002585244264342431), ('n_updates', 56), ('explained_variance', -19.625075793552828)]\n",
      "outdir:elon_musk_dogecoin step:260 episode:19 R:0.03691395205937924\n",
      "statistics:[('average_value', -1.0684801), ('average_entropy', 71313.336), ('average_value_loss', 1.2955336006624358), ('average_policy_loss', 0.0002585244264342431), ('n_updates', 56), ('explained_variance', -19.625075793552828)]\n",
      "evaluation episode 0 length:5 R:0.051060883339943464\n",
      "outdir:elon_musk_dogecoin step:265 episode:20 R:0.04733136688125236\n",
      "statistics:[('average_value', -1.0598416), ('average_entropy', 71313.336), ('average_value_loss', 1.2769644127080315), ('average_policy_loss', 0.00020445701330461082), ('n_updates', 57), ('explained_variance', -11.145038702421743)]\n",
      "outdir:elon_musk_dogecoin step:270 episode:21 R:0.043883707944988505\n",
      "statistics:[('average_value', -1.050933), ('average_entropy', 71313.35), ('average_value_loss', 1.2769644127080315), ('average_policy_loss', 0.00020445701330461082), ('n_updates', 57), ('explained_variance', -11.145038702421743)]\n",
      "evaluation episode 0 length:5 R:0.051060883339943464\n",
      "outdir:elon_musk_dogecoin step:275 episode:22 R:0.051060883339943464\n",
      "statistics:[('average_value', -1.0417138), ('average_entropy', 71313.35), ('average_value_loss', 1.2577419260452534), ('average_policy_loss', 0.0003183023898851263), ('n_updates', 58), ('explained_variance', -7.749529898995231)]\n",
      "outdir:elon_musk_dogecoin step:282 episode:23 R:0.9078032784337866\n",
      "statistics:[('average_value', -1.033803), ('average_entropy', 71313.37), ('average_value_loss', 1.2460979980937505), ('average_policy_loss', 0.00021025619966074651), ('n_updates', 59), ('explained_variance', -65.13956917530275)]\n",
      "evaluation episode 0 length:5 R:0.051060883339943464\n",
      "outdir:elon_musk_dogecoin step:294 episode:24 R:0.06501227370126977\n",
      "statistics:[('average_value', -1.0146691), ('average_entropy', 71313.39), ('average_value_loss', 1.233799797296524), ('average_policy_loss', 0.00013127381516824243), ('n_updates', 60), ('explained_variance', -5.447836198833656)]\n",
      "evaluation episode 0 length:5 R:0.051060883339943464\n",
      "outdir:elon_musk_dogecoin step:299 episode:25 R:0.03691395205937924\n",
      "statistics:[('average_value', -1.0066292), ('average_entropy', 71313.4), ('average_value_loss', 1.233799797296524), ('average_policy_loss', 0.00013127381516824243), ('n_updates', 60), ('explained_variance', -5.447836198833656)]\n",
      "outdir:elon_musk_dogecoin step:307 episode:26 R:0.030314867869480518\n",
      "statistics:[('average_value', -0.99085534), ('average_entropy', 71313.414), ('average_value_loss', 1.2154734047954199), ('average_policy_loss', 0.0001340141230893558), ('n_updates', 61), ('explained_variance', -10.193662811242667)]\n",
      "evaluation episode 0 length:5 R:0.051060883339943464\n",
      "outdir:elon_musk_dogecoin step:313 episode:27 R:0.04454559288270535\n",
      "statistics:[('average_value', -0.97872937), ('average_entropy', 71313.42), ('average_value_loss', 1.2004664507844756), ('average_policy_loss', -3.1615591362952405e-06), ('n_updates', 62), ('explained_variance', -33.175360647756264)]\n",
      "evaluation episode 0 length:5 R:0.051060883339943464\n",
      "outdir:elon_musk_dogecoin step:318 episode:28 R:0.903268185582095\n",
      "statistics:[('average_value', -0.97099626), ('average_entropy', 71313.43), ('average_value_loss', 1.2004664507844756), ('average_policy_loss', -3.1615591362952405e-06), ('n_updates', 62), ('explained_variance', -33.175360647756264)]\n",
      "outdir:elon_musk_dogecoin step:324 episode:29 R:0.039902052647162366\n",
      "statistics:[('average_value', -0.95829123), ('average_entropy', 71313.44), ('average_value_loss', 1.1893363548886209), ('average_policy_loss', -0.00011990143655797482), ('n_updates', 63), ('explained_variance', -1.5340383131866893)]\n",
      "evaluation episode 0 length:5 R:0.051060883339943464\n",
      "outdir:elon_musk_dogecoin step:327 episode:30 R:0.027468392345032608\n",
      "statistics:[('average_value', -0.9532474), ('average_entropy', 71313.445), ('average_value_loss', 1.1893363548886209), ('average_policy_loss', -0.00011990143655797482), ('n_updates', 63), ('explained_variance', -1.5340383131866893)]\n",
      "outdir:elon_musk_dogecoin step:377 episode:31 R:0\n",
      "statistics:[('average_value', -0.85051185), ('average_entropy', 71313.5), ('average_value_loss', 1.242111551520579), ('average_policy_loss', -0.0001777062998906545), ('n_updates', 68), ('explained_variance', -888.0687453298063)]\n",
      "evaluation episode 0 length:5 R:0.051060883339943464\n",
      "outdir:elon_musk_dogecoin step:382 episode:32 R:0.03917782313665549\n",
      "statistics:[('average_value', -0.8399318), ('average_entropy', 71313.51), ('average_value_loss', 1.235224168477715), ('average_policy_loss', -0.0003291908744385169), ('n_updates', 69), ('explained_variance', -0.3201928154205531)]\n",
      "evaluation episode 0 length:5 R:0.051060883339943464\n",
      "outdir:elon_musk_dogecoin step:398 episode:33 R:0.042070292485708205\n",
      "statistics:[('average_value', -0.8181706), ('average_entropy', 71313.52), ('average_value_loss', 1.2843311149094785), ('average_policy_loss', -0.0002839365799445659), ('n_updates', 70), ('explained_variance', -0.2696518433590207)]\n",
      "evaluation episode 0 length:5 R:0.051060883339943464\n",
      "outdir:elon_musk_dogecoin step:401 episode:34 R:0.026587595267637088\n",
      "statistics:[('average_value', -0.8137186), ('average_entropy', 71313.516), ('average_value_loss', 1.2754165699154558), ('average_policy_loss', -0.00030307473145871306), ('n_updates', 71), ('explained_variance', -6376.306062245339)]\n",
      "evaluation episode 0 length:5 R:0.051060883339943464\n",
      "outdir:elon_musk_dogecoin step:435 episode:35 R:0.40446967288710806\n",
      "statistics:[('average_value', -0.77308524), ('average_entropy', 71313.54), ('average_value_loss', 1.2388115018807553), ('average_policy_loss', -0.0004507025736824584), ('n_updates', 74), ('explained_variance', -51.03049916475539)]\n",
      "evaluation episode 0 length:5 R:0.051060883339943464\n",
      "outdir:elon_musk_dogecoin step:453 episode:36 R:0.08308987630781423\n",
      "statistics:[('average_value', -0.7523759), ('average_entropy', 71313.54), ('average_value_loss', 1.2134499484182972), ('average_policy_loss', -0.000460378126406699), ('n_updates', 76), ('explained_variance', -86.34497778856294)]\n",
      "evaluation episode 0 length:5 R:0.051060883339943464\n",
      "outdir:elon_musk_dogecoin step:458 episode:37 R:0.043883707944988505\n",
      "statistics:[('average_value', -0.74646515), ('average_entropy', 71313.54), ('average_value_loss', 1.2134499484182972), ('average_policy_loss', -0.000460378126406699), ('n_updates', 76), ('explained_variance', -86.34497778856294)]\n",
      "outdir:elon_musk_dogecoin step:463 episode:38 R:0.051060883339943464\n",
      "statistics:[('average_value', -0.74073523), ('average_entropy', 71313.54), ('average_value_loss', 1.1993875744474398), ('average_policy_loss', -0.00037824241489825116), ('n_updates', 77), ('explained_variance', -22.64250657127632)]\n",
      "evaluation episode 0 length:5 R:0.051060883339943464\n",
      "outdir:elon_musk_dogecoin step:469 episode:39 R:0.03801414681234764\n",
      "statistics:[('average_value', -0.73418707), ('average_entropy', 71313.54), ('average_value_loss', 1.1993875744474398), ('average_policy_loss', -0.00037824241489825116), ('n_updates', 77), ('explained_variance', -22.64250657127632)]\n",
      "outdir:elon_musk_dogecoin step:500 episode:40 R:0\n",
      "statistics:[('average_value', -0.7161389), ('average_entropy', 71313.53), ('average_value_loss', 1.1581365015823395), ('average_policy_loss', -0.0007426668620610144), ('n_updates', 80), ('explained_variance', -628.3890231942744)]\n",
      "evaluation episode 0 length:5 R:0.051060883339943464\n",
      "Saved the agent to elon_musk_dogecoin/500_finish\n"
     ],
     "name": "stdout"
    },
    {
     "output_type": "execute_result",
     "data": {
      "text/plain": [
       "(<pfrl.agents.ppo.PPO at 0x7f1438408f10>,\n",
       " [{'average_entropy': 71312.86,\n",
       "   'average_policy_loss': -0.0005778993137496537,\n",
       "   'average_value': -1.1820644,\n",
       "   'average_value_loss': 1.5397733084180139,\n",
       "   'eval_score': 0.6118701571341162,\n",
       "   'explained_variance': -36.946850889108426,\n",
       "   'n_updates': 33},\n",
       "  {'average_entropy': 71312.86,\n",
       "   'average_policy_loss': -0.0006748329104833401,\n",
       "   'average_value': -1.1896302,\n",
       "   'average_value_loss': 1.5780798437840797,\n",
       "   'eval_score': 0.051060883339943464,\n",
       "   'explained_variance': -0.7300913744865904,\n",
       "   'n_updates': 34},\n",
       "  {'average_entropy': 71312.94,\n",
       "   'average_policy_loss': -0.0002805701943333798,\n",
       "   'average_value': -1.2554632,\n",
       "   'average_value_loss': 1.5440955738990734,\n",
       "   'eval_score': 0.051060883339943464,\n",
       "   'explained_variance': -390.4063933607259,\n",
       "   'n_updates': 39},\n",
       "  {'average_entropy': 71312.98,\n",
       "   'average_policy_loss': -0.0002032094211821592,\n",
       "   'average_value': -1.2457539,\n",
       "   'average_value_loss': 1.5156753742840232,\n",
       "   'eval_score': 0.051060883339943464,\n",
       "   'explained_variance': -51.0615278646253,\n",
       "   'n_updates': 41},\n",
       "  {'average_entropy': 71312.99,\n",
       "   'average_policy_loss': -8.875665203266267e-05,\n",
       "   'average_value': -1.2375408,\n",
       "   'average_value_loss': 1.5108967859830176,\n",
       "   'eval_score': 0.051060883339943464,\n",
       "   'explained_variance': -1.4907311649594996,\n",
       "   'n_updates': 42},\n",
       "  {'average_entropy': 71313.06,\n",
       "   'average_policy_loss': -8.711994806534759e-05,\n",
       "   'average_value': -1.227982,\n",
       "   'average_value_loss': 1.493516572158445,\n",
       "   'eval_score': 0.051060883339943464,\n",
       "   'explained_variance': -78.9884378834259,\n",
       "   'n_updates': 44},\n",
       "  {'average_entropy': 71313.1,\n",
       "   'average_policy_loss': 0.00019809898391637642,\n",
       "   'average_value': -1.2197058,\n",
       "   'average_value_loss': 1.4825191640191608,\n",
       "   'eval_score': 0.051060883339943464,\n",
       "   'explained_variance': -33.81824737099633,\n",
       "   'n_updates': 45},\n",
       "  {'average_entropy': 71313.22,\n",
       "   'average_policy_loss': 0.00033982125845795965,\n",
       "   'average_value': -1.1569879,\n",
       "   'average_value_loss': 1.3934581258893013,\n",
       "   'eval_score': 0.051060883339943464,\n",
       "   'explained_variance': -431.32679512670745,\n",
       "   'n_updates': 50},\n",
       "  {'average_entropy': 71313.25,\n",
       "   'average_policy_loss': 0.00024142916698530407,\n",
       "   'average_value': -1.136288,\n",
       "   'average_value_loss': 1.3678271796267767,\n",
       "   'eval_score': 0.051060883339943464,\n",
       "   'explained_variance': -32.041422884933674,\n",
       "   'n_updates': 52},\n",
       "  {'average_entropy': 71313.266,\n",
       "   'average_policy_loss': 0.0001948871455547391,\n",
       "   'average_value': -1.1245402,\n",
       "   'average_value_loss': 1.3501226932934995,\n",
       "   'eval_score': 0.051060883339943464,\n",
       "   'explained_variance': -370.5535500115619,\n",
       "   'n_updates': 53},\n",
       "  {'average_entropy': 71313.29,\n",
       "   'average_policy_loss': 0.00016046616851613012,\n",
       "   'average_value': -1.1078151,\n",
       "   'average_value_loss': 1.3338033885315612,\n",
       "   'eval_score': 0.051060883339943464,\n",
       "   'explained_variance': -155.0251960693383,\n",
       "   'n_updates': 54},\n",
       "  {'average_entropy': 71313.305,\n",
       "   'average_policy_loss': 0.00023882706174679861,\n",
       "   'average_value': -1.0872896,\n",
       "   'average_value_loss': 1.3130737553943288,\n",
       "   'eval_score': 0.051060883339943464,\n",
       "   'explained_variance': -133.39454800252926,\n",
       "   'n_updates': 55},\n",
       "  {'average_entropy': 71313.31,\n",
       "   'average_policy_loss': 0.00023882706174679861,\n",
       "   'average_value': -1.0839288,\n",
       "   'average_value_loss': 1.3130737553943288,\n",
       "   'eval_score': 0.051060883339943464,\n",
       "   'explained_variance': -133.39454800252926,\n",
       "   'n_updates': 55},\n",
       "  {'average_entropy': 71313.336,\n",
       "   'average_policy_loss': 0.0002585244264342431,\n",
       "   'average_value': -1.0684801,\n",
       "   'average_value_loss': 1.2955336006624358,\n",
       "   'eval_score': 0.051060883339943464,\n",
       "   'explained_variance': -19.625075793552828,\n",
       "   'n_updates': 56},\n",
       "  {'average_entropy': 71313.35,\n",
       "   'average_policy_loss': 0.00020445701330461082,\n",
       "   'average_value': -1.050933,\n",
       "   'average_value_loss': 1.2769644127080315,\n",
       "   'eval_score': 0.051060883339943464,\n",
       "   'explained_variance': -11.145038702421743,\n",
       "   'n_updates': 57},\n",
       "  {'average_entropy': 71313.37,\n",
       "   'average_policy_loss': 0.00021025619966074651,\n",
       "   'average_value': -1.033803,\n",
       "   'average_value_loss': 1.2460979980937505,\n",
       "   'eval_score': 0.051060883339943464,\n",
       "   'explained_variance': -65.13956917530275,\n",
       "   'n_updates': 59},\n",
       "  {'average_entropy': 71313.39,\n",
       "   'average_policy_loss': 0.00013127381516824243,\n",
       "   'average_value': -1.0146691,\n",
       "   'average_value_loss': 1.233799797296524,\n",
       "   'eval_score': 0.051060883339943464,\n",
       "   'explained_variance': -5.447836198833656,\n",
       "   'n_updates': 60},\n",
       "  {'average_entropy': 71313.414,\n",
       "   'average_policy_loss': 0.0001340141230893558,\n",
       "   'average_value': -0.99085534,\n",
       "   'average_value_loss': 1.2154734047954199,\n",
       "   'eval_score': 0.051060883339943464,\n",
       "   'explained_variance': -10.193662811242667,\n",
       "   'n_updates': 61},\n",
       "  {'average_entropy': 71313.42,\n",
       "   'average_policy_loss': -3.1615591362952405e-06,\n",
       "   'average_value': -0.97872937,\n",
       "   'average_value_loss': 1.2004664507844756,\n",
       "   'eval_score': 0.051060883339943464,\n",
       "   'explained_variance': -33.175360647756264,\n",
       "   'n_updates': 62},\n",
       "  {'average_entropy': 71313.44,\n",
       "   'average_policy_loss': -0.00011990143655797482,\n",
       "   'average_value': -0.95829123,\n",
       "   'average_value_loss': 1.1893363548886209,\n",
       "   'eval_score': 0.051060883339943464,\n",
       "   'explained_variance': -1.5340383131866893,\n",
       "   'n_updates': 63},\n",
       "  {'average_entropy': 71313.5,\n",
       "   'average_policy_loss': -0.0001777062998906545,\n",
       "   'average_value': -0.85051185,\n",
       "   'average_value_loss': 1.242111551520579,\n",
       "   'eval_score': 0.051060883339943464,\n",
       "   'explained_variance': -888.0687453298063,\n",
       "   'n_updates': 68},\n",
       "  {'average_entropy': 71313.51,\n",
       "   'average_policy_loss': -0.0003291908744385169,\n",
       "   'average_value': -0.8399318,\n",
       "   'average_value_loss': 1.235224168477715,\n",
       "   'eval_score': 0.051060883339943464,\n",
       "   'explained_variance': -0.3201928154205531,\n",
       "   'n_updates': 69},\n",
       "  {'average_entropy': 71313.52,\n",
       "   'average_policy_loss': -0.0002839365799445659,\n",
       "   'average_value': -0.8181706,\n",
       "   'average_value_loss': 1.2843311149094785,\n",
       "   'eval_score': 0.051060883339943464,\n",
       "   'explained_variance': -0.2696518433590207,\n",
       "   'n_updates': 70},\n",
       "  {'average_entropy': 71313.516,\n",
       "   'average_policy_loss': -0.00030307473145871306,\n",
       "   'average_value': -0.8137186,\n",
       "   'average_value_loss': 1.2754165699154558,\n",
       "   'eval_score': 0.051060883339943464,\n",
       "   'explained_variance': -6376.306062245339,\n",
       "   'n_updates': 71},\n",
       "  {'average_entropy': 71313.54,\n",
       "   'average_policy_loss': -0.0004507025736824584,\n",
       "   'average_value': -0.77308524,\n",
       "   'average_value_loss': 1.2388115018807553,\n",
       "   'eval_score': 0.051060883339943464,\n",
       "   'explained_variance': -51.03049916475539,\n",
       "   'n_updates': 74},\n",
       "  {'average_entropy': 71313.54,\n",
       "   'average_policy_loss': -0.000460378126406699,\n",
       "   'average_value': -0.7523759,\n",
       "   'average_value_loss': 1.2134499484182972,\n",
       "   'eval_score': 0.051060883339943464,\n",
       "   'explained_variance': -86.34497778856294,\n",
       "   'n_updates': 76},\n",
       "  {'average_entropy': 71313.54,\n",
       "   'average_policy_loss': -0.00037824241489825116,\n",
       "   'average_value': -0.74073523,\n",
       "   'average_value_loss': 1.1993875744474398,\n",
       "   'eval_score': 0.051060883339943464,\n",
       "   'explained_variance': -22.64250657127632,\n",
       "   'n_updates': 77},\n",
       "  {'average_entropy': 71313.53,\n",
       "   'average_policy_loss': -0.0007426668620610144,\n",
       "   'average_value': -0.7161389,\n",
       "   'average_value_loss': 1.1581365015823395,\n",
       "   'eval_score': 0.051060883339943464,\n",
       "   'explained_variance': -628.3890231942744,\n",
       "   'n_updates': 80}])"
      ]
     },
     "metadata": {
      "tags": []
     },
     "execution_count": 16
    }
   ]
  },
  {
   "cell_type": "markdown",
   "metadata": {
    "id": "9B7rMPRU5zsM"
   },
   "source": [
    "loading the best result and predict."
   ]
  },
  {
   "cell_type": "code",
   "metadata": {
    "id": "FrkYGPjYTIcS"
   },
   "source": [
    "agent.load(\"./elon_musk_dogecoin/best\")"
   ],
   "execution_count": 17,
   "outputs": []
  },
  {
   "cell_type": "code",
   "metadata": {
    "colab": {
     "base_uri": "https://localhost:8080/",
     "height": 37
    },
    "id": "dpAwe42ES-5w",
    "outputId": "06220b3c-6d21-4c0b-92cf-e9091c367412"
   },
   "source": [
    "actor.predict('i think dogecoin is')"
   ],
   "execution_count": 18,
   "outputs": [
    {
     "output_type": "execute_result",
     "data": {
      "application/vnd.google.colaboratory.intrinsic+json": {
       "type": "string"
      },
      "text/plain": [
       "' a great idea, but I think it is a little overused.'"
      ]
     },
     "metadata": {
      "tags": []
     },
     "execution_count": 18
    }
   ]
  }
 ]
}