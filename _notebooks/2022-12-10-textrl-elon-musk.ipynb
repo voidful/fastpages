{
 "nbformat": 4,
 "nbformat_minor": 0,
 "metadata": {
  "colab": {
   "name": "elon_musk.ipynb",
   "provenance": []
  },
  "kernelspec": {
   "name": "python3",
   "display_name": "Python 3"
  },
  "language_info": {
   "name": "python"
  },
  "accelerator": "GPU"
 },
 "cells": [
  {
   "source": [
    "# Controllable generation via RL to let Elon Musk speak ill of DOGE\n",
    "> How to control text generation through a sentiment classifier.\n",
    "\n",
    "- toc: true \n",
    "- badges: true\n",
    "- comments: true\n",
    "- categories: [jupyter]\n"
   ],
   "cell_type": "markdown",
   "metadata": {
    "id": "At5gZSqIG1ah"
   }
  },
  {
   "cell_type": "code",
   "source": [
    "!pip install pfrl@git+https://github.com/voidful/pfrl.git\n",
    "!pip install textrl==0.1.6"
   ],
   "metadata": {
    "id": "tgBsD1fa0hJn"
   },
   "execution_count": null,
   "outputs": []
  },
  {
   "cell_type": "code",
   "metadata": {
    "id": "c8BT6ZwpNke-"
   },
   "source": [
    "from textrl import TextRLEnv,TextRLActor\n",
    "from transformers import pipeline, AutoModelForTokenClassification, AutoTokenizer, AutoModelWithLMHead\n",
    "import logging\n",
    "import sys\n",
    "import pfrl\n",
    "import torch\n",
    "logging.basicConfig(level=logging.INFO, stream=sys.stdout, format='')"
   ],
   "execution_count": 2,
   "outputs": []
  },
  {
   "cell_type": "markdown",
   "metadata": {
    "id": "Re1cxoPZ4wgf"
   },
   "source": [
    "**Using a pre-trained model, it can generate elonmusk's style tweets.**"
   ]
  },
  {
   "cell_type": "code",
   "metadata": {
    "id": "f0TqcFITHHdX"
   },
   "source": [
    "tokenizer = AutoTokenizer.from_pretrained(\"huggingtweets/elonmusk\")  \n",
    "model = AutoModelWithLMHead.from_pretrained(\"huggingtweets/elonmusk\")\n",
    "model.eval()\n",
    "model.cuda()"
   ],
   "execution_count": null,
   "outputs": []
  },
  {
   "cell_type": "markdown",
   "metadata": {
    "id": "342ChdlM5CXv"
   },
   "source": [
    "**a sentiment classifier for rl reward**"
   ]
  },
  {
   "cell_type": "code",
   "metadata": {
    "id": "UYRgFPW_HrJo",
    "colab": {
     "base_uri": "https://localhost:8080/"
    },
    "outputId": "f504a04b-88b5-4c0e-a68e-0b30e1876a68"
   },
   "source": [
    "sentiment = pipeline('sentiment-analysis',model=\"cardiffnlp/twitter-roberta-base-sentiment\",tokenizer=\"cardiffnlp/twitter-roberta-base-sentiment\",device=0,return_all_scores=True)"
   ],
   "execution_count": 4,
   "outputs": [
    {
     "output_type": "stream",
     "name": "stderr",
     "text": [
      "/usr/local/lib/python3.8/dist-packages/transformers/pipelines/text_classification.py:104: UserWarning: `return_all_scores` is now deprecated,  if want a similar funcionality use `top_k=None` instead of `return_all_scores=True` or `top_k=1` instead of `return_all_scores=False`.\n",
      "  warnings.warn(\n"
     ]
    }
   ]
  },
  {
   "cell_type": "code",
   "metadata": {
    "id": "o47CRT8TKqvn"
   },
   "source": [
    "transformers_logger = logging.getLogger('transformers')\n",
    "transformers_logger.setLevel(logging.CRITICAL)"
   ],
   "execution_count": 5,
   "outputs": []
  },
  {
   "cell_type": "code",
   "metadata": {
    "id": "GgFrS5gQIAxR",
    "colab": {
     "base_uri": "https://localhost:8080/"
    },
    "outputId": "b63a14ce-abdb-4140-d0d2-7e073404bd12"
   },
   "source": [
    "sentiment(\"dogecoin is bad\")"
   ],
   "execution_count": 6,
   "outputs": [
    {
     "output_type": "execute_result",
     "data": {
      "text/plain": [
       "[[{'label': 'LABEL_0', 'score': 0.9338533878326416},\n",
       "  {'label': 'LABEL_1', 'score': 0.06011885032057762},\n",
       "  {'label': 'LABEL_2', 'score': 0.0060277231968939304}]]"
      ]
     },
     "metadata": {},
     "execution_count": 6
    }
   ]
  },
  {
   "cell_type": "code",
   "metadata": {
    "colab": {
     "base_uri": "https://localhost:8080/"
    },
    "id": "GhVcFdwjJzjW",
    "outputId": "82b3da77-3f89-41c9-fae7-2edca6430e3a"
   },
   "source": [
    "sentiment(\"dogecoin is bad\")[0][0]['score']"
   ],
   "execution_count": 7,
   "outputs": [
    {
     "output_type": "execute_result",
     "data": {
      "text/plain": [
       "0.9338533878326416"
      ]
     },
     "metadata": {},
     "execution_count": 7
    }
   ]
  },
  {
   "cell_type": "markdown",
   "metadata": {
    "id": "SfjPrvcK5N5e"
   },
   "source": [
    "set our text generation reward, inverse perplexity + sentiment classifier.\n",
    "- inverse perplexity make sure the generated sentence probability will be high.\n",
    "- sentiment classifier can make the generate more negative."
   ]
  },
  {
   "cell_type": "code",
   "metadata": {
    "id": "OgNGUk99HMtT"
   },
   "source": [
    "class MyRLEnv(TextRLEnv):\n",
    "    def get_reward(self, input_item, predicted_list, finish): # predicted will be the list of predicted token\n",
    "      reward = 0\n",
    "      if finish or len(predicted_list) >= self.env_max_length:\n",
    "        if 1 < len(predicted_list):\n",
    "          predicted_text = tokenizer.convert_tokens_to_string(predicted_list)\n",
    "          # sentiment classifier\n",
    "          reward += sentiment(input_item[0]+predicted_text)[0][0]['score']\n",
    "      return reward"
   ],
   "execution_count": 8,
   "outputs": []
  },
  {
   "cell_type": "markdown",
   "metadata": {
    "id": "jqF7mNCY5tdO"
   },
   "source": [
    "**fit one example**"
   ]
  },
  {
   "cell_type": "code",
   "metadata": {
    "id": "cy4tCfslKGd4"
   },
   "source": [
    "observaton_list = [['i think dogecoin is']]"
   ],
   "execution_count": 9,
   "outputs": []
  },
  {
   "cell_type": "code",
   "metadata": {
    "id": "wtGfk03eHOv_"
   },
   "source": [
    "env = MyRLEnv(model, tokenizer, observation_input=observaton_list)\n",
    "actor = TextRLActor(env,model,tokenizer)\n",
    "agent = actor.agent_ppo(update_interval=10, minibatch_size=10, epochs=10)"
   ],
   "execution_count": 10,
   "outputs": []
  },
  {
   "cell_type": "code",
   "metadata": {
    "id": "_sBBy1yjIdtP",
    "colab": {
     "base_uri": "https://localhost:8080/",
     "height": 35
    },
    "outputId": "4ef6a722-d2a4-4c44-a61e-e5821424e995"
   },
   "source": [
    "actor.predict(observaton_list[0])"
   ],
   "execution_count": 11,
   "outputs": [
    {
     "output_type": "execute_result",
     "data": {
      "text/plain": [
       "' a good idea'"
      ],
      "application/vnd.google.colaboratory.intrinsic+json": {
       "type": "string"
      }
     },
     "metadata": {},
     "execution_count": 11
    }
   ]
  },
  {
   "cell_type": "code",
   "metadata": {
    "id": "FBysk9MiHR2D",
    "colab": {
     "base_uri": "https://localhost:8080/"
    },
    "outputId": "748a2d29-b1de-4b76-d721-b8bdc0562171"
   },
   "source": [
    "pfrl.experiments.train_agent_with_evaluation(\n",
    "    agent,\n",
    "    env,\n",
    "    steps=100,\n",
    "    eval_n_steps=None,\n",
    "    eval_n_episodes=1,       \n",
    "    train_max_episode_len=100,  \n",
    "    eval_interval=10,\n",
    "    outdir='elon_musk_dogecoin', \n",
    ")"
   ],
   "execution_count": 12,
   "outputs": [
    {
     "output_type": "stream",
     "name": "stderr",
     "text": [
      "/usr/local/lib/python3.8/dist-packages/textrl/actor.py:69: UserWarning: The use of `x.T` on tensors of dimension other than 2 to reverse their shape is deprecated and it will throw an error in a future release. Consider `x.mT` to transpose batches of matrices or `x.permute(*torch.arange(x.ndim - 1, -1, -1))` to reverse the dimensions of a tensor. (Triggered internally at ../aten/src/ATen/native/TensorShape.cpp:3277.)\n",
      "  (prob_ratio.T * advs).T,\n",
      "/usr/local/lib/python3.8/dist-packages/transformers/pipelines/base.py:1043: UserWarning: You seem to be using the pipelines sequentially on GPU. In order to maximize efficiency please use a dataset\n",
      "  warnings.warn(\n"
     ]
    },
    {
     "output_type": "execute_result",
     "data": {
      "text/plain": [
       "(<textrl.actor.TextPPO at 0x7f902414b6a0>,\n",
       " [{'average_value': 2.0006444,\n",
       "   'average_entropy': 0.17440723,\n",
       "   'average_value_loss': 1.3542563378810883,\n",
       "   'average_policy_loss': -0.04205846681725234,\n",
       "   'n_updates': 10,\n",
       "   'explained_variance': -2.7000492592458043,\n",
       "   'eval_score': 0.001555838156491518},\n",
       "  {'average_value': 1.2077988,\n",
       "   'average_entropy': 0.10219431,\n",
       "   'average_value_loss': 0.8049726754426956,\n",
       "   'average_policy_loss': -0.043247044883901256,\n",
       "   'n_updates': 20,\n",
       "   'explained_variance': nan,\n",
       "   'eval_score': 0.008166163228452206},\n",
       "  {'average_value': 0.68971634,\n",
       "   'average_entropy': 0.08226016,\n",
       "   'average_value_loss': 0.583228854338328,\n",
       "   'average_policy_loss': -0.03243164799874639,\n",
       "   'n_updates': 30,\n",
       "   'explained_variance': nan,\n",
       "   'eval_score': 0.009085850790143013},\n",
       "  {'average_value': 0.49251693,\n",
       "   'average_entropy': 0.07101057,\n",
       "   'average_value_loss': 0.44462784337811173,\n",
       "   'average_policy_loss': -0.03321644520212423,\n",
       "   'n_updates': 40,\n",
       "   'explained_variance': -112.08653704970607,\n",
       "   'eval_score': 0.9138848781585693},\n",
       "  {'average_value': 0.44328108,\n",
       "   'average_entropy': 0.058479678,\n",
       "   'average_value_loss': 0.40179401244968177,\n",
       "   'average_policy_loss': -0.030547107956139286,\n",
       "   'n_updates': 50,\n",
       "   'explained_variance': -0.042075806250177594,\n",
       "   'eval_score': 0.9138848781585693},\n",
       "  {'average_value': 0.4795684,\n",
       "   'average_entropy': 0.04970775,\n",
       "   'average_value_loss': 0.3383651294396259,\n",
       "   'average_policy_loss': -0.025455901640428043,\n",
       "   'n_updates': 60,\n",
       "   'explained_variance': nan,\n",
       "   'eval_score': 0.9138848781585693},\n",
       "  {'average_value': 0.5787231,\n",
       "   'average_entropy': 0.04142314,\n",
       "   'average_value_loss': 0.29252415439113977,\n",
       "   'average_policy_loss': -0.02181934324143011,\n",
       "   'n_updates': 70,\n",
       "   'explained_variance': -0.2262049999078275,\n",
       "   'eval_score': 0.9138848781585693},\n",
       "  {'average_value': 0.6124888,\n",
       "   'average_entropy': 0.036820583,\n",
       "   'average_value_loss': 0.2565400848223362,\n",
       "   'average_policy_loss': -0.01909192969484108,\n",
       "   'n_updates': 80,\n",
       "   'explained_variance': -4.575841818340245,\n",
       "   'eval_score': 0.9138848781585693},\n",
       "  {'average_value': 0.63870776,\n",
       "   'average_entropy': 0.033138536,\n",
       "   'average_value_loss': 0.22813357474113016,\n",
       "   'average_policy_loss': -0.016970614835801,\n",
       "   'n_updates': 90,\n",
       "   'explained_variance': nan,\n",
       "   'eval_score': 0.9138848781585693},\n",
       "  {'average_value': 0.6700342,\n",
       "   'average_entropy': 0.029824698,\n",
       "   'average_value_loss': 0.20538896852887775,\n",
       "   'average_policy_loss': -0.015273552626720602,\n",
       "   'n_updates': 100,\n",
       "   'explained_variance': -0.4705488598887635,\n",
       "   'eval_score': 0.9138848781585693}])"
      ]
     },
     "metadata": {},
     "execution_count": 12
    }
   ]
  },
  {
   "cell_type": "markdown",
   "metadata": {
    "id": "9B7rMPRU5zsM"
   },
   "source": [
    "loading the best result and predict."
   ]
  },
  {
   "cell_type": "code",
   "metadata": {
    "id": "FrkYGPjYTIcS"
   },
   "source": [
    "agent.load(\"./elon_musk_dogecoin/best\")"
   ],
   "execution_count": 13,
   "outputs": []
  },
  {
   "cell_type": "code",
   "metadata": {
    "colab": {
     "base_uri": "https://localhost:8080/",
     "height": 35
    },
    "id": "dpAwe42ES-5w",
    "outputId": "bd73de74-12c7-4ea1-c2f2-6ff477e1d905"
   },
   "source": [
    "actor.predict(observaton_list[0])"
   ],
   "execution_count": 14,
   "outputs": [
    {
     "output_type": "execute_result",
     "data": {
      "text/plain": [
       "' a hoax'"
      ],
      "application/vnd.google.colaboratory.intrinsic+json": {
       "type": "string"
      }
     },
     "metadata": {},
     "execution_count": 14
    }
   ]
  }
 ]
}